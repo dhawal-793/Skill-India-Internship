{
  "nbformat": 4,
  "nbformat_minor": 0,
  "metadata": {
    "colab": {
      "name": "Adding_new_products.ipynb",
      "provenance": [],
      "collapsed_sections": []
    },
    "kernelspec": {
      "display_name": "Python 3",
      "name": "python3"
    },
    "language_info": {
      "name": "python"
    }
  },
  "cells": [
    {
      "cell_type": "code",
      "metadata": {
        "id": "5SVXMzZVTSow"
      },
      "source": [
        "import json \n",
        "\n",
        "fd = open(\"Available.json\",'r')\n",
        "r = fd.read()\n",
        "fd.close()\n",
        "records = json.loads(r)\n",
        "\n",
        "prod_id = str(input(\"Enter product id : \"))\n",
        "\n",
        "if prod_id in records.keys():\n",
        "  print(\"Product is already registered with this id\")\n",
        "  print(\"If you want to update product enter 1 else enter 0\")\n",
        "  ch = int(input(\"Enter your choise ; \"))\n",
        "\n",
        "  if(ch==1):\n",
        "    print(\"Previous record of the product is =>\")\n",
        "    print(records[prod_id])\n",
        "    previous_quant=records[prod_id]['qn']\n",
        "    qn = int(input(\"Enter new quantity for the product : \"))\n",
        "    records[prod_id]['qn'] =previous_quant + qn\n",
        "\n",
        "else:\n",
        "  name = str(input(\"Enter name : \"))\n",
        "  pr = int(input(\"Enter price : \"))\n",
        "  qn = int(input(\"Enter quantity : \"))\n",
        "  cat =str(input(\"Enter the category : \"))\n",
        "  records[prod_id] = {'name': name, 'pr': pr, 'qn': qn, 'category': cat}\n",
        "\n",
        "js = json.dumps(records)\n",
        "fd = open(\"Available.json\",'w')\n",
        "fd.write(js)\n",
        "fd.close()"
      ],
      "execution_count": null,
      "outputs": []
    }
  ]
}